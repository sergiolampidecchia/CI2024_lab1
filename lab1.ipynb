{
 "cells": [
  {
   "cell_type": "markdown",
   "metadata": {},
   "source": [
    "# Lab 1\n",
    "The Set Cover Problem has a complex combinatorial structure with many local minima. Hill Climbing often gets stuck in these minima, whereas Simulated Annealing, with its ability to temporarily accept worse solutions, can escape from these traps and continue exploring other areas of the solution space.\n",
    "\n",
    "The balance between exploration and exploitation offered by Simulated Annealing is particularly effective for problems like Set Cover, where the number of possible combinations is vast, and there is no straightforward path to continuous improvement.\n",
    "\n",
    "In conclusion, Simulated Annealing is preferable for solving the Set Cover Problem because:\n",
    "\n",
    "- It can overcome local minima.\n",
    "- It explores the solution space more thoroughly.\n",
    "- It is more resilient when dealing with complex combinatorial problems."
   ]
  },
  {
   "cell_type": "code",
   "execution_count": null,
   "metadata": {},
   "outputs": [],
   "source": [
    "from random import random, seed\n",
    "from itertools import product\n",
    "import numpy as np\n",
    "from matplotlib import pyplot as plt\n",
    "from icecream import ic\n",
    "from tqdm import tqdm"
   ]
  },
  {
   "cell_type": "markdown",
   "metadata": {},
   "source": [
    "## Reproducible Initialization"
   ]
  },
  {
   "cell_type": "code",
   "execution_count": 17,
   "metadata": {},
   "outputs": [],
   "source": [
    "UNIVERSE_SIZES = [100, 1000, 10_000, 100_000, 100_000, 100_000]\n",
    "NUM_SETS_LIST = [10, 100, 1000, 10_000, 10_000, 10_000]\n",
    "DENSITIES = [0.2, 0.2, 0.2, 0.1, 0.2, 0.3]"
   ]
  },
  {
   "cell_type": "markdown",
   "metadata": {},
   "source": [
    "## Helper Functions"
   ]
  },
  {
   "cell_type": "code",
   "execution_count": 18,
   "metadata": {},
   "outputs": [],
   "source": [
    "def valid(solution):\n",
    "    \"\"\"Checks whether the solution is valid (covers all universe)\"\"\"\n",
    "    return np.all(np.logical_or.reduce(SETS[solution]))\n",
    "\n",
    "def cost(solution):\n",
    "    \"\"\"Returns the cost of a solution (to be minimized)\"\"\"\n",
    "    return COSTS[solution].sum()"
   ]
  },
  {
   "cell_type": "markdown",
   "metadata": {},
   "source": [
    "## Optimization Function with Simulated Annealing\n",
    "\n",
    "\n",
    "\n",
    "\n",
    "\n",
    "\n"
   ]
  },
  {
   "cell_type": "code",
   "execution_count": 19,
   "metadata": {},
   "outputs": [],
   "source": [
    "def simulated_annealing(sets, costs, num_sets, density, rng, initial_temp=1000.0, cooling_rate=0.995, min_temp=1e-6, max_iter=20_000):\n",
    "    if num_sets < 1000:\n",
    "        current_solution = rng.random(num_sets) < 1\n",
    "    else:  \n",
    "        current_solution = rng.random(num_sets) < 0.5\n",
    "        \n",
    "    current_cost = cost(current_solution)\n",
    "\n",
    "    best_solution = current_solution\n",
    "    best_cost = current_cost\n",
    "\n",
    "    temperature = initial_temp\n",
    "    history = [current_cost]\n",
    "\n",
    "    for iteration in tqdm(range(max_iter), desc=\"Simulated Annealing Progress\"):\n",
    "        new_solution = current_solution.copy()\n",
    "\n",
    "        #Swapping of one set from the current solution with another one\n",
    "        swap_idx = np.random.randint(num_sets)\n",
    "        new_solution[swap_idx] = not new_solution[swap_idx]  \n",
    "\n",
    "        new_cost = cost(new_solution)\n",
    "\n",
    "        if not valid(new_solution):\n",
    "            continue\n",
    "        \n",
    "        \n",
    "        if new_cost < current_cost or random() < np.exp(-(new_cost - current_cost) / temperature):\n",
    "            current_solution = new_solution\n",
    "            current_cost = new_cost\n",
    "\n",
    "            if current_cost < best_cost:\n",
    "                best_solution = current_solution\n",
    "                best_cost = current_cost\n",
    " \n",
    "        temperature = max(temperature * cooling_rate, min_temp)\n",
    "        history.append(current_cost)\n",
    "\n",
    "        if temperature <= min_temp:\n",
    "            break\n",
    "\n",
    "        ic(iteration, best_cost, temperature)\n",
    "\n",
    "    return best_solution, best_cost, history"
   ]
  },
  {
   "cell_type": "markdown",
   "metadata": {},
   "source": [
    "## Simulated Annealing algorithm is applied to minimize the total cost of the universe, and the progress is visualized in a plot showing the cost over iterations."
   ]
  },
  {
   "cell_type": "code",
   "execution_count": null,
   "metadata": {},
   "outputs": [],
   "source": [
    "for universe_size, num_sets, density in zip(UNIVERSE_SIZES, NUM_SETS_LIST, DENSITIES):\n",
    "    print(f\"Solving for Universe Size: {universe_size}, Num Sets: {num_sets}, Density: {density}\")\n",
    "    rng = np.random.Generator(np.random.PCG64([universe_size, num_sets, int(10_000 * density)]))\n",
    "    SETS = rng.random((num_sets, universe_size)) < density\n",
    "    for s in range(universe_size):\n",
    "        if not np.any(SETS[:, s]):\n",
    "            SETS[np.random.randint(num_sets), s] = True\n",
    "    COSTS = np.pow(SETS.sum(axis=1), 1.1)\n",
    "    \n",
    "    best_solution, best_cost, history = simulated_annealing(SETS, COSTS, num_sets, density, rng)\n",
    "    \n",
    "    print(f\"Best solution cost for Universe Size {universe_size}: {best_cost}\")\n",
    "    print(f\"Best solution found: {best_solution}\")\n",
    "\n",
    "    plt.figure(figsize=(14, 8))\n",
    "    plt.plot(range(len(history)), history, color=\"blue\", label=\"Cost over iterations\")\n",
    "    plt.scatter(range(len(history)), history, color=\"red\", marker=\".\", label=\"Individual cost\")\n",
    "    plt.title(f\"Simulated Annealing Progress for Universe Size {universe_size}\")\n",
    "    plt.xlabel(\"Iterations\")\n",
    "    plt.ylabel(\"Cost\")\n",
    "    plt.legend()\n",
    "    plt.grid(True)\n",
    "    plt.show()"
   ]
  }
 ],
 "metadata": {
  "kernelspec": {
   "display_name": "CI2024",
   "language": "python",
   "name": "python3"
  },
  "language_info": {
   "codemirror_mode": {
    "name": "ipython",
    "version": 3
   },
   "file_extension": ".py",
   "mimetype": "text/x-python",
   "name": "python",
   "nbconvert_exporter": "python",
   "pygments_lexer": "ipython3",
   "version": "3.12.2"
  }
 },
 "nbformat": 4,
 "nbformat_minor": 2
}
